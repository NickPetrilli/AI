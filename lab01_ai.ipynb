{
  "nbformat": 4,
  "nbformat_minor": 0,
  "metadata": {
    "colab": {
      "provenance": [],
      "include_colab_link": true
    },
    "kernelspec": {
      "name": "python3",
      "display_name": "Python 3"
    },
    "language_info": {
      "name": "python"
    }
  },
  "cells": [
    {
      "cell_type": "markdown",
      "metadata": {
        "id": "view-in-github",
        "colab_type": "text"
      },
      "source": [
        "<a href=\"https://colab.research.google.com/github/NickPetrilli/AI/blob/main/lab01_ai.ipynb\" target=\"_parent\"><img src=\"https://colab.research.google.com/assets/colab-badge.svg\" alt=\"Open In Colab\"/></a>"
      ]
    },
    {
      "cell_type": "markdown",
      "source": [
        "## Lab 01\n",
        "### By Ron Coleman, Ph.D.\n",
        "The goal of this lab is to get started with Colab and TensorFlow.\n",
        "\n",
        "### Background\n",
        "If you are famliar with Jupyter Notebooks, Colab is very similar and in some ways, better.\n",
        "This lab provides only the most basic instructions for manipulating and executing the notebook.\n",
        "If you want more details on Colab, you can find any number internet resources to help.\n",
        "\n",
        "For this course, Colab is the environment of record for running all software and submitting deliverables.\n",
        "\n",
        "Follow the tasks steps and run the cells as indicated below.\n",
        "\n",
        "At the bottom of the notebook, find the delivery instructions.\n",
        "\n",
        "If you run into problems or have questions, **do not** email me.\n",
        "Rather, use the \"Discussion\" tool. We will answer over there.\n"
      ],
      "metadata": {
        "id": "FuF6WCLjXHa0"
      }
    },
    {
      "cell_type": "code",
      "source": [
        "# Task 1: Copy this notebook to your drive."
      ],
      "metadata": {
        "id": "j41EKEeOYwdj"
      },
      "execution_count": null,
      "outputs": []
    },
    {
      "cell_type": "code",
      "execution_count": null,
      "metadata": {
        "id": "OD0HQmwpWxrz"
      },
      "outputs": [],
      "source": [
        "# Task 2: Load TensorFlow.\n",
        "# Uncomment the import below and click the \"run\" icon to the left to run this cell.\n",
        "import tensorflow as tf"
      ]
    },
    {
      "cell_type": "code",
      "source": [
        "# Task 3: Get the TensorFlow version number.\n",
        "# Again, uncomment the statement below and click the \"run\" icon. At the time of this writing, the current version is 2.12.3.\n",
        "print(tf.__version__)"
      ],
      "metadata": {
        "id": "dywU2gBbW119",
        "colab": {
          "base_uri": "https://localhost:8080/"
        },
        "outputId": "7fe8360b-154a-47f9-88d1-44f57e166b74"
      },
      "execution_count": null,
      "outputs": [
        {
          "output_type": "stream",
          "name": "stdout",
          "text": [
            "2.13.0\n"
          ]
        }
      ]
    },
    {
      "cell_type": "markdown",
      "source": [
        "### Deliverables\n",
        "1. Share this notebook as viewable only. Do not remove the ouputs.\n",
        "2. Copy the link and paste it into the assignment shell for submission.\n",
        "3. Complete the submission [flight checklist](https://docs.google.com/spreadsheets/d/1lgCttHGUIbCUTrd0TZIm4Nxfy8wy3jnIvNv7cUPJ-Gw/edit?usp=sharing).\n",
        "4. When done, export the checklist as lab01-checklist.pdf, and upload it to the assignment shell.\n"
      ],
      "metadata": {
        "id": "spmHDj69Y6qU"
      }
    }
  ]
}