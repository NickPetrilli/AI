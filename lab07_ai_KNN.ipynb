{
  "nbformat": 4,
  "nbformat_minor": 0,
  "metadata": {
    "colab": {
      "provenance": [],
      "include_colab_link": true
    },
    "kernelspec": {
      "name": "python3",
      "display_name": "Python 3"
    },
    "language_info": {
      "name": "python"
    }
  },
  "cells": [
    {
      "cell_type": "markdown",
      "metadata": {
        "id": "view-in-github",
        "colab_type": "text"
      },
      "source": [
        "<a href=\"https://colab.research.google.com/github/NickPetrilli/AI/blob/main/lab07_ai_KNN.ipynb\" target=\"_parent\"><img src=\"https://colab.research.google.com/assets/colab-badge.svg\" alt=\"Open In Colab\"/></a>"
      ]
    },
    {
      "cell_type": "markdown",
      "source": [
        "## Lab 7\n",
        "This lab demonstrates how to do classification with k-nearest neighbor classification.\n",
        "\n",
        "By Ron Coleman, Ph.D., Nick Petrilli\n",
        "\n",
        "Study this notebook and add code to Step 12 to generate markdown output that corresponds to the sample shown in the next to last cell for random_state=42. (The very last cell gives the deliverables.)\n",
        "\n",
        "Here's how to go about this. After you do the code for Step 12 and you get its output, create a new text cell and copy the output of Step 12 to this new text cell. In other words, the output of Step 12 is *markdown* but it won't look formatted like the sample (random_state=42) until you paste it into a text cell. It should have the identical formatting and values.\n",
        "\n",
        "Then once this is done, set random_state=44. Create a next text cell, put at the top, random_state=44, and below that copy in the random_state=44 output text. It should have the identical formatting, but the results will be different.\n",
        "\n",
        "Finally, repeat this for a random sate that corresponds to the last two digits of your student id.\n",
        "\n",
        "In total, you will have three different outputs: random_state=42, random_state=44, and random_state=(last two digits of your student id)\n",
        "\n",
        "If you are not familiar with markdown, there are many resouces on the internet for how to write markdown. [This](https://www.w3schools.io/file/markdown-introduction/) is but one from W3Schools which you might find helpful. You can also ask [ChatGPT](https://chat.openai.com/auth/login) for guidance or even a crash course.\n",
        "\n",
        "At the bottom of this notebook, find the deliverables."
      ],
      "metadata": {
        "id": "ndsNC1kC_NGz"
      }
    },
    {
      "cell_type": "code",
      "execution_count": null,
      "metadata": {
        "id": "p-Sg7jzoq1eB"
      },
      "outputs": [],
      "source": [
        "# Step 1: Import the Pandas library\n",
        "import pandas as pd\n",
        "\n",
        "# Step 2: Read in the data to a DataFrame using the CSV reader method\n",
        "url = \"https://raw.githubusercontent.com/uiuc-cse/data-fa14/gh-pages/data/iris.csv\"\n",
        "df = pd.read_csv(url)"
      ]
    },
    {
      "cell_type": "code",
      "source": [
        "# Step 2: Randomize the rows of the dataset since the data are typically ordered by species.\n",
        "from sklearn.utils import shuffle\n",
        "df = shuffle(df, random_state=42).reset_index(drop=True)"
      ],
      "metadata": {
        "id": "9fkGGhcjiW7X"
      },
      "execution_count": null,
      "outputs": []
    },
    {
      "cell_type": "code",
      "source": [
        "# Step 3: Normalize numeric columns\n",
        "from sklearn.preprocessing import MinMaxScaler\n",
        "scaler = MinMaxScaler()\n",
        "\n",
        "# These are the numberic columns\n",
        "numeric_columns = ['sepal_length', 'sepal_width', 'petal_length', 'petal_width']\n",
        "\n",
        "# Each column gets transformed independently to their unique range as a numpy array.\n",
        "normalized_columns = scaler.fit_transform(df[numeric_columns])\n",
        "\n",
        "# Convert the numpy array to a pandas dataframe\n",
        "df_normalized = pd.DataFrame(normalized_columns)"
      ],
      "metadata": {
        "id": "vQ-XuzvXCRka"
      },
      "execution_count": null,
      "outputs": []
    },
    {
      "cell_type": "code",
      "source": [
        "# Step 4: One-hot encode the 'species' column\n",
        "from sklearn.preprocessing import OneHotEncoder\n",
        "encoder = OneHotEncoder(sparse_output=False)\n",
        "\n",
        "# One-encode and also get the unbique categories\n",
        "species_encoded = encoder.fit_transform(df[['species']])\n",
        "\n",
        "# The categories are stored as nyumpy array of with the first element being an array\n",
        "species_categories = encoder.categories_[0]\n",
        "\n",
        "df_species_encoded = pd.DataFrame(species_encoded, columns=species_categories)"
      ],
      "metadata": {
        "id": "7Q_x1vPiCXR6"
      },
      "execution_count": null,
      "outputs": []
    },
    {
      "cell_type": "markdown",
      "source": [
        "## At this point *df_normalized* and *df_species_encoded* READY for MLP\n",
        "See Lab 4 for details to this point."
      ],
      "metadata": {
        "id": "_C6EfPQxamuq"
      }
    },
    {
      "cell_type": "code",
      "source": [
        "# Step 5: Split the dataset into training and testing sets\n",
        "RANDOM_STATE = 23\n",
        "from sklearn.model_selection import train_test_split\n",
        "X_trains, X_tests, y_trains, y_tests = train_test_split(df_normalized, df_species_encoded, test_size=0.2, random_state=RANDOM_STATE)"
      ],
      "metadata": {
        "id": "-42_3L0ZTP23"
      },
      "execution_count": null,
      "outputs": []
    },
    {
      "cell_type": "code",
      "source": [
        "# Step 6: get the labels as indexes of species_categories.\n",
        "y_test_labels = y_tests.values.argmax(axis=1)\n",
        "print(y_test_labels)"
      ],
      "metadata": {
        "id": "1RAAUTYCVnGI",
        "colab": {
          "base_uri": "https://localhost:8080/"
        },
        "outputId": "36d7439d-a24c-41e2-9b43-ee185d04823f"
      },
      "execution_count": null,
      "outputs": [
        {
          "output_type": "stream",
          "name": "stdout",
          "text": [
            "[2 1 2 1 2 1 1 2 0 1 2 0 0 2 2 2 2 0 1 0 2 1 2 2 1 1 0 2 1 1]\n"
          ]
        }
      ]
    },
    {
      "cell_type": "code",
      "source": [
        "# Step 7: Create a k=1 nearest neighbors classifier\n",
        "from sklearn.neighbors import KNeighborsClassifier\n",
        "knn = KNeighborsClassifier(n_neighbors=1)"
      ],
      "metadata": {
        "id": "N-s9WrlpTOoZ"
      },
      "execution_count": null,
      "outputs": []
    },
    {
      "cell_type": "code",
      "source": [
        "# Step 8: Train the classifier\n",
        "knn.fit(X_trains, y_trains)"
      ],
      "metadata": {
        "id": "bn-sMl10TlGi",
        "colab": {
          "base_uri": "https://localhost:8080/",
          "height": 74
        },
        "outputId": "fbf30a0d-437c-4181-b774-7089ebef2ec0"
      },
      "execution_count": null,
      "outputs": [
        {
          "output_type": "execute_result",
          "data": {
            "text/plain": [
              "KNeighborsClassifier(n_neighbors=1)"
            ],
            "text/html": [
              "<style>#sk-container-id-4 {color: black;background-color: white;}#sk-container-id-4 pre{padding: 0;}#sk-container-id-4 div.sk-toggleable {background-color: white;}#sk-container-id-4 label.sk-toggleable__label {cursor: pointer;display: block;width: 100%;margin-bottom: 0;padding: 0.3em;box-sizing: border-box;text-align: center;}#sk-container-id-4 label.sk-toggleable__label-arrow:before {content: \"▸\";float: left;margin-right: 0.25em;color: #696969;}#sk-container-id-4 label.sk-toggleable__label-arrow:hover:before {color: black;}#sk-container-id-4 div.sk-estimator:hover label.sk-toggleable__label-arrow:before {color: black;}#sk-container-id-4 div.sk-toggleable__content {max-height: 0;max-width: 0;overflow: hidden;text-align: left;background-color: #f0f8ff;}#sk-container-id-4 div.sk-toggleable__content pre {margin: 0.2em;color: black;border-radius: 0.25em;background-color: #f0f8ff;}#sk-container-id-4 input.sk-toggleable__control:checked~div.sk-toggleable__content {max-height: 200px;max-width: 100%;overflow: auto;}#sk-container-id-4 input.sk-toggleable__control:checked~label.sk-toggleable__label-arrow:before {content: \"▾\";}#sk-container-id-4 div.sk-estimator input.sk-toggleable__control:checked~label.sk-toggleable__label {background-color: #d4ebff;}#sk-container-id-4 div.sk-label input.sk-toggleable__control:checked~label.sk-toggleable__label {background-color: #d4ebff;}#sk-container-id-4 input.sk-hidden--visually {border: 0;clip: rect(1px 1px 1px 1px);clip: rect(1px, 1px, 1px, 1px);height: 1px;margin: -1px;overflow: hidden;padding: 0;position: absolute;width: 1px;}#sk-container-id-4 div.sk-estimator {font-family: monospace;background-color: #f0f8ff;border: 1px dotted black;border-radius: 0.25em;box-sizing: border-box;margin-bottom: 0.5em;}#sk-container-id-4 div.sk-estimator:hover {background-color: #d4ebff;}#sk-container-id-4 div.sk-parallel-item::after {content: \"\";width: 100%;border-bottom: 1px solid gray;flex-grow: 1;}#sk-container-id-4 div.sk-label:hover label.sk-toggleable__label {background-color: #d4ebff;}#sk-container-id-4 div.sk-serial::before {content: \"\";position: absolute;border-left: 1px solid gray;box-sizing: border-box;top: 0;bottom: 0;left: 50%;z-index: 0;}#sk-container-id-4 div.sk-serial {display: flex;flex-direction: column;align-items: center;background-color: white;padding-right: 0.2em;padding-left: 0.2em;position: relative;}#sk-container-id-4 div.sk-item {position: relative;z-index: 1;}#sk-container-id-4 div.sk-parallel {display: flex;align-items: stretch;justify-content: center;background-color: white;position: relative;}#sk-container-id-4 div.sk-item::before, #sk-container-id-4 div.sk-parallel-item::before {content: \"\";position: absolute;border-left: 1px solid gray;box-sizing: border-box;top: 0;bottom: 0;left: 50%;z-index: -1;}#sk-container-id-4 div.sk-parallel-item {display: flex;flex-direction: column;z-index: 1;position: relative;background-color: white;}#sk-container-id-4 div.sk-parallel-item:first-child::after {align-self: flex-end;width: 50%;}#sk-container-id-4 div.sk-parallel-item:last-child::after {align-self: flex-start;width: 50%;}#sk-container-id-4 div.sk-parallel-item:only-child::after {width: 0;}#sk-container-id-4 div.sk-dashed-wrapped {border: 1px dashed gray;margin: 0 0.4em 0.5em 0.4em;box-sizing: border-box;padding-bottom: 0.4em;background-color: white;}#sk-container-id-4 div.sk-label label {font-family: monospace;font-weight: bold;display: inline-block;line-height: 1.2em;}#sk-container-id-4 div.sk-label-container {text-align: center;}#sk-container-id-4 div.sk-container {/* jupyter's `normalize.less` sets `[hidden] { display: none; }` but bootstrap.min.css set `[hidden] { display: none !important; }` so we also need the `!important` here to be able to override the default hidden behavior on the sphinx rendered scikit-learn.org. See: https://github.com/scikit-learn/scikit-learn/issues/21755 */display: inline-block !important;position: relative;}#sk-container-id-4 div.sk-text-repr-fallback {display: none;}</style><div id=\"sk-container-id-4\" class=\"sk-top-container\"><div class=\"sk-text-repr-fallback\"><pre>KNeighborsClassifier(n_neighbors=1)</pre><b>In a Jupyter environment, please rerun this cell to show the HTML representation or trust the notebook. <br />On GitHub, the HTML representation is unable to render, please try loading this page with nbviewer.org.</b></div><div class=\"sk-container\" hidden><div class=\"sk-item\"><div class=\"sk-estimator sk-toggleable\"><input class=\"sk-toggleable__control sk-hidden--visually\" id=\"sk-estimator-id-4\" type=\"checkbox\" checked><label for=\"sk-estimator-id-4\" class=\"sk-toggleable__label sk-toggleable__label-arrow\">KNeighborsClassifier</label><div class=\"sk-toggleable__content\"><pre>KNeighborsClassifier(n_neighbors=1)</pre></div></div></div></div></div>"
            ]
          },
          "metadata": {},
          "execution_count": 45
        }
      ]
    },
    {
      "cell_type": "code",
      "source": [
        "# Step 9: Make predictions on the test set\n",
        "y_pred = knn.predict(X_tests)"
      ],
      "metadata": {
        "id": "LiaDQQogTti3"
      },
      "execution_count": null,
      "outputs": []
    },
    {
      "cell_type": "code",
      "source": [
        "# Step 10: Convert one-hot encoded predictions to class labels: axis=1 along columns\n",
        "import numpy as np\n",
        "y_pred_labels = np.argmax(y_pred, axis=1)\n",
        "print(y_pred_labels)"
      ],
      "metadata": {
        "id": "mZERizzfTw7a",
        "colab": {
          "base_uri": "https://localhost:8080/"
        },
        "outputId": "cdc3e24f-f324-4575-d407-610a65ce4000"
      },
      "execution_count": null,
      "outputs": [
        {
          "output_type": "stream",
          "name": "stdout",
          "text": [
            "[2 1 2 1 2 1 1 2 0 1 2 0 0 2 2 2 2 0 1 0 2 1 1 2 1 1 0 2 1 1]\n"
          ]
        }
      ]
    },
    {
      "cell_type": "code",
      "source": [
        "# Step 11. TODO: Write the code to output the results, test by test.\n",
        "# The output should be markdown which when copied to a text cell\n",
        "# renders like the cell below.\n",
        "\n",
        "import numpy as np\n",
        "identical_counts = np.sum(np.equal(y_pred_labels, y_test_labels))\n",
        "\n",
        "# Create the encoded prediction labels list to be used in output\n",
        "y_pred_labels_encoded = []\n",
        "for i in range(len(y_pred_labels)):\n",
        "  if (y_pred_labels[i] == 0):\n",
        "    y_pred_labels_encoded.append('setosa')\n",
        "  if (y_pred_labels[i] == 1):\n",
        "    y_pred_labels_encoded.append('versicolor')\n",
        "  if (y_pred_labels[i] == 2):\n",
        "    y_pred_labels_encoded.append('virginica')\n",
        "\n",
        "# Create the encoded test labels list to be used in output\n",
        "y_test_labels_encoded = []\n",
        "for i in range(len(y_test_labels)):\n",
        "  if (y_test_labels[i] == 0):\n",
        "    y_test_labels_encoded.append('setosa')\n",
        "  if (y_test_labels[i] == 1):\n",
        "    y_test_labels_encoded.append('versicolor')\n",
        "  if (y_test_labels[i] == 2):\n",
        "    y_test_labels_encoded.append('virginica')\n",
        "\n",
        "print(f'{\"#\":>2} {\"LABEL\":10} {\"PREDICTED\":10} {\"OUTCOME\":10}')\n",
        "\n",
        "y_labels_count = len(y_pred_labels)\n",
        "\n",
        "for i in range(y_labels_count):\n",
        "  if (y_pred_labels_encoded[i] != y_test_labels_encoded[i]):\n",
        "    print(f'{i:>2} {y_test_labels_encoded[i]:10} {y_pred_labels_encoded[i]:10} MISSED !')\n",
        "  else:\n",
        "    print(f'{i:>2} {y_test_labels_encoded[i]:10} {y_pred_labels_encoded[i]:10}')\n",
        "\n",
        "accuracy = identical_counts / y_labels_count * 100\n",
        "print(f'Accuracy {identical_counts}/{y_labels_count} or {accuracy:.1f}%')"
      ],
      "metadata": {
        "id": "ogjO4HqqU5K3",
        "colab": {
          "base_uri": "https://localhost:8080/"
        },
        "outputId": "de24f193-63c5-4f4e-9b86-7ad2901447f7"
      },
      "execution_count": null,
      "outputs": [
        {
          "output_type": "stream",
          "name": "stdout",
          "text": [
            " # LABEL      PREDICTED  OUTCOME   \n",
            " 0 virginica  virginica \n",
            " 1 versicolor versicolor\n",
            " 2 virginica  virginica \n",
            " 3 versicolor versicolor\n",
            " 4 virginica  virginica \n",
            " 5 versicolor versicolor\n",
            " 6 versicolor versicolor\n",
            " 7 virginica  virginica \n",
            " 8 setosa     setosa    \n",
            " 9 versicolor versicolor\n",
            "10 virginica  virginica \n",
            "11 setosa     setosa    \n",
            "12 setosa     setosa    \n",
            "13 virginica  virginica \n",
            "14 virginica  virginica \n",
            "15 virginica  virginica \n",
            "16 virginica  virginica \n",
            "17 setosa     setosa    \n",
            "18 versicolor versicolor\n",
            "19 setosa     setosa    \n",
            "20 virginica  virginica \n",
            "21 versicolor versicolor\n",
            "22 virginica  versicolor MISSED !\n",
            "23 virginica  virginica \n",
            "24 versicolor versicolor\n",
            "25 versicolor versicolor\n",
            "26 setosa     setosa    \n",
            "27 virginica  virginica \n",
            "28 versicolor versicolor\n",
            "29 versicolor versicolor\n",
            "Accuracy 29/30 or 96.7%\n"
          ]
        }
      ]
    },
    {
      "cell_type": "markdown",
      "source": [
        "## random_state = 42\n",
        "|# |LABEL     |PREDICTED|OUTCOME|\n",
        "|-:|-|-|-|\n",
        "| 0| virginica | virginica |  |\n",
        "| 1| versicolor| versicolor|  |\n",
        "| 2| versicolor| versicolor|  |\n",
        "| 3| setosa    | setosa    |  |\n",
        "| 4| virginica | virginica |  |\n",
        "| 5| setosa    | setosa    |  |\n",
        "| 6| versicolor| versicolor|  |\n",
        "| 7| versicolor| versicolor|  |\n",
        "| 8| setosa    | setosa    |  |\n",
        "| 9| setosa    | setosa    |  |\n",
        "|10| versicolor| versicolor|  |\n",
        "|11| setosa    | setosa    |  |\n",
        "|12| versicolor| versicolor|  |\n",
        "|13| versicolor| versicolor|  |\n",
        "|14| virginica | virginica |  |\n",
        "|15| setosa    | setosa    |  |\n",
        "|16| virginica | virginica |  |\n",
        "|17| versicolor| versicolor|  |\n",
        "|18| versicolor| versicolor|  |\n",
        "|19| setosa    | setosa    |  |\n",
        "|20| setosa    | setosa    |  |\n",
        "|21| virginica | virginica |  |\n",
        "|22| virginica | virginica |  |\n",
        "|23| setosa    | setosa    |  |\n",
        "|24| virginica | virginica |  |\n",
        "|25| versicolor| versicolor|  |\n",
        "|26| setosa    | setosa    |  |\n",
        "|27| virginica | virginica |  |\n",
        "|28| versicolor| versicolor|  |\n",
        "|29| setosa    | setosa    |  |\n",
        "Accuracy: 30/30 or 100.0%"
      ],
      "metadata": {
        "id": "-f-vdSpw59eI"
      }
    },
    {
      "cell_type": "markdown",
      "source": [
        "## random state = 44\n",
        "|# |LABEL     |PREDICTED|OUTCOME|\n",
        "|-:|-|-|-|\n",
        "| 0| setosa    |     setosa|  |    \n",
        "| 1| versicolor| versicolor|  |\n",
        "| 2| versicolor| versicolor|  |\n",
        "| 3| versicolor| versicolor|  |\n",
        "| 4| virginica |  virginica|  |\n",
        "| 5| virginica |  virginica|  |\n",
        "| 6| versicolor| versicolor|  |\n",
        "| 7| virginica | virginica |  |\n",
        "| 8| setosa    | setosa    |  |    \n",
        "| 9| versicolor| versicolor|  |\n",
        "|10| versicolor| versicolor|  |\n",
        "|11| versicolor| versicolor|  |\n",
        "|12| virginica | versicolor| MISSED ! |\n",
        "|13| setosa    | setosa    |  |    \n",
        "|14| setosa    | setosa    |  |    \n",
        "|15| versicolor| versicolor|  |\n",
        "|16| setosa    | setosa    |  |    \n",
        "|17| setosa    | setosa    |  |    \n",
        "|18| versicolor| versicolor|  |\n",
        "|19| versicolor| versicolor|  |\n",
        "|20| setosa    | setosa    |  |    \n",
        "|21| setosa    | setosa    |  |    \n",
        "|22| virginica | virginica |  |\n",
        "|23| virginica | versicolor| MISSED ! |\n",
        "|24| virginica | virginica |  |\n",
        "|25| virginica | virginica |  |\n",
        "|26| virginica | virginica |  |\n",
        "|27| setosa    | setosa    |  |    \n",
        "|28| versicolor| versicolor|  |\n",
        "|29| virginica | virginica |  |\n",
        "Accuracy 28/30 or 93.3%"
      ],
      "metadata": {
        "id": "3Cx9J84F89YX"
      }
    },
    {
      "cell_type": "markdown",
      "source": [
        "## random state = 23\n",
        "## student id = 20106623\n",
        "|# |LABEL     |PREDICTED|OUTCOME|\n",
        "|-:|-|-|-|   \n",
        "| 0| virginica |  virginica|  |\n",
        "| 1| versicolor| versicolor|  |\n",
        "| 2| virginica |  virginica|  |\n",
        "| 3| versicolor| versicolor|  |\n",
        "| 4| virginica |  virginica|  |\n",
        "| 5| versicolor| versicolor|  |\n",
        "| 6| versicolor| versicolor|  |\n",
        "| 7| virginica |  virginica|  |\n",
        "| 8| setosa    |     setosa|  |    \n",
        "| 9| versicolor| versicolor|  |\n",
        "|10| virginica |  virginica|  |\n",
        "|11| setosa    |     setosa|  |    \n",
        "|12| setosa    |     setosa|  |    \n",
        "|13| virginica | virginica |  |\n",
        "|14| virginica |  virginica|  |\n",
        "|15| virginica |  virginica|  |\n",
        "|16| virginica |  virginica|  |\n",
        "|17| setosa    |     setosa|  |   \n",
        "|18| versicolor| versicolor|  |\n",
        "|19| setosa    |     setosa|  |  \n",
        "|20| virginica |  virginica|  |\n",
        "|21| versicolor| versicolor|  |\n",
        "|22| virginica | versicolor| MISSED ! |\n",
        "|23| virginica | virginica |  |\n",
        "|24| versicolor| versicolor|  |\n",
        "|25| versicolor| versicolor|  |\n",
        "|26| setosa    |    setosa |  |\n",
        "|27| virginica | virginica |  |\n",
        "|28| versicolor| versicolor|  |\n",
        "|29| versicolor| versicolor|  |\n",
        "Accuracy 29/30 or 96.7%\n"
      ],
      "metadata": {
        "id": "aRRB6UUM9MU4"
      }
    },
    {
      "cell_type": "markdown",
      "source": [
        "# Deliverables\n",
        "1. The notebook should have clearly labelled outputs for the random states indicated above. Full credit requires properly labelling the output which is in markdown, correct formatting, and correct results.\n",
        "1. Share the notebook as viewable only. *Do not remove the outputs.* Copy the link and paste it into the assignment shell.\n",
        "1. Complete the [submission flight checklist](https://docs.google.com/spreadsheets/u/0/d/1lgCttHGUIbCUTrd0TZIm4Nxfy8wy3jnIvNv7cUPJ-Gw/edit).\n",
        "When done, export the checklist as lab04-checklist.pdf, and upload it to the assignment shell."
      ],
      "metadata": {
        "id": "SvwEH45BHPzJ"
      }
    }
  ]
}