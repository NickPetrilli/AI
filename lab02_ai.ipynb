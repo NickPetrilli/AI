{
  "nbformat": 4,
  "nbformat_minor": 0,
  "metadata": {
    "colab": {
      "provenance": [],
      "include_colab_link": true
    },
    "kernelspec": {
      "name": "python3",
      "display_name": "Python 3"
    },
    "language_info": {
      "name": "python"
    }
  },
  "cells": [
    {
      "cell_type": "markdown",
      "metadata": {
        "id": "view-in-github",
        "colab_type": "text"
      },
      "source": [
        "<a href=\"https://colab.research.google.com/github/NickPetrilli/AI/blob/main/lab02_ai.ipynb\" target=\"_parent\"><img src=\"https://colab.research.google.com/assets/colab-badge.svg\" alt=\"Open In Colab\"/></a>"
      ]
    },
    {
      "cell_type": "markdown",
      "source": [
        "## Artificial Intelligence\n",
        "Lab 02\n",
        "\n",
        "By R. Coleman, Ph.D.\n",
        "\n",
        "---\n",
        "The goal of this lab is to get some practice with Python.\n",
        "\n",
        "### Background\n",
        "This lab explores Python input-output for Colab.\n",
        "\n",
        "While there are various tools for automating data manipulation, we want to get some practice for what goes on behind the scenes.\n",
        "\n",
        "You can ask ChatGPT or whatever for help but please do not use Tensorflow, Pandas, NumPy, etc. for this lab. You will get ample opportunities to use these later.\n",
        "\n",
        "You will use the [Iris](https://en.wikipedia.org/wiki/Iris_flower_data_set) data set about flowers. It is one of the most famous tests of AI.\n",
        "The data set contains two important data ontologies:\n",
        "_continuous_ and _categorical_.\n",
        "\n",
        "Continuous data are double-precision and comparable.\n",
        "The measurements that describe the flowers in the data set are continuous.\n",
        "These are comparable.\n",
        "However, the names of the flower species are categorical or more specifically\n",
        "nominal or name-like.\n",
        "They are not comparable.\n",
        "For instance, we cannot subtract a setosa from a versicolor.\n",
        "To do so is a category mistake.\n",
        "The categorical aspects of the data have to be encoded in such as way\n",
        "that makes it comparable in an unbiased way.\n",
        "We'll deal with this issue in a subsequent lab.\n",
        "\n",
        "For this lab, you are only going to read in the iris data and gather some preliminary statistics.\n",
        "\n",
        "It could be done in a snap with Pandas. However, **do not** use\n",
        "Pandas and the like here. For now, we'll focus on base Python and reserve\n",
        "things like Pandas for another lab when we really need it.\n",
        "\n",
        "At the bottom of this notebook you will find the delivery instructions.\n",
        "\n",
        "---\n",
        "\n"
      ],
      "metadata": {
        "id": "mVg4LGEEJG6D"
      }
    },
    {
      "cell_type": "markdown",
      "source": [
        "### Part 1\n",
        "1. Download to your computer the CSV file at this [link](https://raw.githubusercontent.com/uiuc-cse/data-fa14/gh-pages/data/iris.csv).\n",
        "2. Open and inspect the file in Excel.\n",
        "3. Get the min and max of each sepal length, sepal width, etc. columns.\n",
        "4. Get the count for the number of setosa, virginica, and versicolor species.\n",
        "5. Save the spreadsheet as a _.xlsx_ file.\n",
        "\n",
        "---\n"
      ],
      "metadata": {
        "id": "X0prSgLahhb9"
      }
    },
    {
      "cell_type": "markdown",
      "source": [
        "### Part 2\n",
        "1. Do Runtime > Run all.\n",
        "2. Study the output.\n",
        "\n",
        "Notice that the minima, maxima, and counts are not correct. In the next part, you're going to fix these.\n",
        "\n",
        "---"
      ],
      "metadata": {
        "id": "-zL08F7NioLM"
      }
    },
    {
      "cell_type": "markdown",
      "source": [
        "### Part 3\n",
        "Follow the tasks indicated in the cells."
      ],
      "metadata": {
        "id": "niuIjZ8xjcn5"
      }
    },
    {
      "cell_type": "code",
      "source": [
        "# Task 1. Recommended: run this cell to install the Python interactive debugger in Colab.\n",
        "# For details on how to install and use, see https://zohaib.me/debugging-in-google-collab-notebook/\n",
        "#!pip install -Uqq ipdb"
      ],
      "metadata": {
        "id": "c1FjhvuU6NDW"
      },
      "execution_count": null,
      "outputs": []
    },
    {
      "cell_type": "code",
      "source": [
        "# Task 2. Recommended: import this cell if you want to use the interactive debugger.\n",
        "#import ipdb"
      ],
      "metadata": {
        "id": "tEmZNZMc_1YT"
      },
      "execution_count": null,
      "outputs": []
    },
    {
      "cell_type": "code",
      "execution_count": 18,
      "metadata": {
        "id": "zdXLtEug5wXP"
      },
      "outputs": [],
      "source": [
        "# Task 3. Run this cell once each time you process the data.\n",
        "import urllib.request\n",
        "\n",
        "url = 'https://raw.githubusercontent.com/uiuc-cse/data-fa14/gh-pages/data/iris.csv'\n",
        "response = urllib.request.urlopen(url)"
      ]
    },
    {
      "cell_type": "code",
      "source": [
        "# Task 4. Follow the comments and complete the TODO's below.\n",
        "\n",
        "# We use this import only to get the maximum float value but it's kind of overkill\n",
        "# because the maximum flower measures are less than 10.\n",
        "import sys\n",
        "MAX_FLOAT = sys.float_info.max\n",
        "\n",
        "# This contains the maximum (so far) measurements.\n",
        "maxes = [ -MAX_FLOAT, -MAX_FLOAT, -MAX_FLOAT, -MAX_FLOAT ]\n",
        "\n",
        "# This contains the minimum (so far) measurements.\n",
        "mins = [ MAX_FLOAT, MAX_FLOAT, MAX_FLOAT, MAX_FLOAT ]\n",
        "\n",
        "# This contains the known species and their counts (so far).\n",
        "cats = {'setosa':0,'versicolor':0,'virginica':0}\n",
        "\n",
        "# Skips the header row which we don't need.\n",
        "response.readline()\n",
        "\n",
        "# Process line by line as Iris.csv is organized this way.\n",
        "for line in response:\n",
        "    # Decode each line from bytes to string and remove leading/trailing whitespace\n",
        "    line = line.decode('utf-8').strip()\n",
        "\n",
        "    # Split the line into fields.\n",
        "    values = line.split(\",\")\n",
        "\n",
        "    # Hint: in TODOs #2-4 below, try a list comprehension.\n",
        "    # For more details on FP, see https://docs.python.org/3/howto/functional.html\n",
        "\n",
        "    # Convert each field to a float -- except the last which is a category.\n",
        "    numbers = [values[0], values[1], values[2], values[3]]\n",
        "    nums = list(map(float, numbers))\n",
        "    iris = values[4].strip()\n",
        "\n",
        "    # Get the maxes and mins of each field.\n",
        "    for x in range(0,4):\n",
        "      if nums[x] > maxes[x]:\n",
        "        maxes[x] = nums[x]\n",
        "\n",
        "      if nums[x] < mins[x]:\n",
        "        mins[x] = nums[x]\n",
        "\n",
        "    # Get the species and increment the corresponding category.\n",
        "    if iris == 'setosa':\n",
        "        cats['setosa'] += 1\n",
        "    if iris == 'versicolor':\n",
        "        cats['versicolor'] += 1\n",
        "    if iris == 'virginica':\n",
        "        cats['virginica'] += 1\n",
        "\n",
        "    # Uncomment this line as a breakpoint to do single-step debugging, if needed.\n",
        "    #ipdb.set_trace(context=1)\n",
        "    # Process the line as needed.\n",
        "    # Comment this line when done -- we know the contents\n",
        "    # print(line)\n",
        "\n",
        "# Close the response\n",
        "response.close()\n",
        "\n",
        "print(f'maxes: {maxes}')\n",
        "print(f'mins: {mins}')\n",
        "print(f'cats: {cats}')"
      ],
      "metadata": {
        "id": "5dd8KOOP639V",
        "colab": {
          "base_uri": "https://localhost:8080/"
        },
        "outputId": "4b6aea3b-2583-4217-c25b-ece1164e2b97"
      },
      "execution_count": 19,
      "outputs": [
        {
          "output_type": "stream",
          "name": "stdout",
          "text": [
            "maxes: [7.9, 4.4, 6.9, 2.5]\n",
            "mins: [4.3, 2.0, 1.0, 0.1]\n",
            "cats: {'setosa': 50, 'versicolor': 50, 'virginica': 50}\n"
          ]
        }
      ]
    },
    {
      "cell_type": "markdown",
      "source": [
        "### Deliverables\n",
        "1. Share this notebook as viewable only. Do not remove the ouputs.\n",
        "2. Copy the link and paste it into the assignment shell for submission.\n",
        "3. Upload the .xlsx you created in Part 1.\n",
        "4. Complete the submission [flight checklist](https://docs.google.com/spreadsheets/d/1lgCttHGUIbCUTrd0TZIm4Nxfy8wy3jnIvNv7cUPJ-Gw/edit?usp=sharing).\n",
        "4. When done, export the checklist as lab02-checklist.pdf, and upload it to the assignment shell."
      ],
      "metadata": {
        "id": "IrRKeZr9mMp1"
      }
    }
  ]
}