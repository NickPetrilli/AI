{
  "nbformat": 4,
  "nbformat_minor": 0,
  "metadata": {
    "colab": {
      "provenance": [],
      "include_colab_link": true
    },
    "kernelspec": {
      "name": "python3",
      "display_name": "Python 3"
    },
    "language_info": {
      "name": "python"
    }
  },
  "cells": [
    {
      "cell_type": "markdown",
      "metadata": {
        "id": "view-in-github",
        "colab_type": "text"
      },
      "source": [
        "<a href=\"https://colab.research.google.com/github/NickPetrilli/AI/blob/main/lab08_ai.ipynb\" target=\"_parent\"><img src=\"https://colab.research.google.com/assets/colab-badge.svg\" alt=\"Open In Colab\"/></a>"
      ]
    },
    {
      "cell_type": "markdown",
      "source": [
        "# Lab 08\n",
        "#### By R. Coleman\n",
        "The goal of this lab is to explore the MNIST data.\n",
        "\n",
        "\n",
        "\n",
        "\n"
      ],
      "metadata": {
        "id": "f3xij2PVdUcG"
      }
    },
    {
      "cell_type": "markdown",
      "source": [
        "### Background\n",
        "The MNIST dataset is one of the most popular benchmarks for computer vision,\n",
        "optical character recognition (OCR), etc.\n",
        "In fact, MNIST is built into TensorFlow.\n",
        "\n",
        "MNIST comprises thousands of handwritten 0-9 digits that have been digitized as grayscale pixels on fixed-sized panels or cells. The data also contains the corresponding\n",
        "labels. There is a training set and a testing set.\n",
        "[Wikipedia](https://en.wikipedia.org/wiki/MNIST_database) gives a list of\n",
        "published AI methods that have been tested and their accuracies.\n",
        "Note that convolutional neural netowks (or CNNs) which we cover in a subsequent\n",
        "lab tend to give the best results.\n",
        "\n",
        "MNIST centers digits in the cell. However, the centering is inexact, the\n",
        "insets vary greatly, pixel intensities as well as\n",
        "the slanting are inconsistent, etc. as you can see in the sample below.\n",
        "\n",
        "![MNIST sample](https://external-content.duckduckgo.com/iu/?u=https%3A%2F%2Ftse1.explicit.bing.net%2Fth%3Fid%3DOIP.hWVB-Yr5LcH2lR9t__ZwHQAAAA%26pid%3DApi&f=1&ipt=59fa579bfb9571b29d697a42b8a7745242c08849faafe56cdf4c2f113b44e05e&ipo=images)\n",
        "\n",
        "Figure 1. MNIST sample\n",
        "\n",
        "A successful AI will have to deal with these problems.\n",
        "\n",
        "In this lab, we want to try to find the minimum canvas for a cell.\n",
        "I asked ChatGPT to write a function for this purpose. Your main task\n",
        "is to write a function of your own to do the same thing.\n",
        "It may not be as algorithmically\n",
        "elegant as ChatGPT but it needs to accomplish the same objective to convey the basic ideas.\n",
        "\n",
        "However, in the process of carefully reviewing the results, I discovered that ChatGPT made a mistake. The error suggests the reason we **must** be really careful reading codes of others and inspecting results, including those from ChatGPT.\n",
        "\n",
        "Copy this notebook, study it, and follow the TODOs and instructions to resolve the problem.\n",
        "\n",
        "At the bottom of this notebook you will find the deliver instructions.\n",
        "\n",
        "---"
      ],
      "metadata": {
        "id": "4Bkb9zQzECs3"
      }
    },
    {
      "cell_type": "markdown",
      "source": [
        "### Color theory\n",
        "This section gives a brief tutorial on color theory which describes one particular encoding of colors.\n",
        "AI has to deal with color. However, for this lab we are only interested in\n",
        "the RGB standard.\n",
        "\n",
        "RGB specifies three channles, red, blue, and green\n",
        "which in mammalian biology corresponds to distinct RGB visual receptors.\n",
        "Each channel gives the intensity of the respective color which when combined\n",
        "with the other channels indicates what we actually see.\n",
        "\n",
        "For the digital world, the color channel is 8 bits which gives the value in\n",
        "the range of 0-255. Thus, if color can be represented as (x,y,z) where x, y,\n",
        "and z represent the intensities of respective RGB components, then there\n",
        "are 2^24 or roughly 16 million possible colors.\n",
        "Thus, a color like (255,0,0) is pure red, (0,255,0) is pure\n",
        "green, and (0,0,255) is pure blue. A color like (255,0,255) is hot pink which\n",
        "for historical reasons is widely used in game development.\n",
        "(255,255,255) is white and (0,0,0) is black. (128,128,128) is a middle\n",
        "shade of gray.\n",
        "\n",
        "Since all the channels have the same value in grayscale, MNIST needs not three\n",
        "but one value per pixel. Namely, the value of each pixel is 0-255.\n",
        "\n",
        "\n",
        "\n"
      ],
      "metadata": {
        "id": "7lWmZMXi6GoW"
      }
    },
    {
      "cell_type": "code",
      "source": [
        "# Step 1: Load the MNIST database\n",
        "from tensorflow.keras.datasets import mnist\n",
        "\n",
        "# Load the MNIST dataset -- X_ contains the pixels and y_ the labels\n",
        "(X_train, y_train), (X_test, y_test) = mnist.load_data()"
      ],
      "metadata": {
        "id": "o8uAuI1ga38n",
        "colab": {
          "base_uri": "https://localhost:8080/"
        },
        "outputId": "0b983194-486d-4158-f43f-e869d8802173"
      },
      "execution_count": 1,
      "outputs": [
        {
          "output_type": "stream",
          "name": "stdout",
          "text": [
            "Downloading data from https://storage.googleapis.com/tensorflow/tf-keras-datasets/mnist.npz\n",
            "11490434/11490434 [==============================] - 0s 0us/step\n"
          ]
        }
      ]
    },
    {
      "cell_type": "code",
      "source": [
        "print(f'X_train shape: {X_train.shape} y_train shape: {y_train.shape}')\n",
        "print(f'X_test shape: {X_test.shape} y_train shape: {y_test.shape}')"
      ],
      "metadata": {
        "id": "bDhZpQpxd-cJ",
        "colab": {
          "base_uri": "https://localhost:8080/"
        },
        "outputId": "443d0dae-9a3f-4261-f1c7-d61363b8793e"
      },
      "execution_count": 2,
      "outputs": [
        {
          "output_type": "stream",
          "name": "stdout",
          "text": [
            "X_train shape: (60000, 28, 28) y_train shape: (60000,)\n",
            "X_test shape: (10000, 28, 28) y_train shape: (10000,)\n"
          ]
        }
      ]
    },
    {
      "cell_type": "code",
      "source": [
        "# Step 2: Render the first 10 cells with their labels.\n",
        "# This is the AI input and output.\n",
        "import matplotlib.pyplot as plt\n",
        "\n",
        "plt.figure(figsize=(8, 4))\n",
        "\n",
        "for i in range(10):\n",
        "    # 2x5 grid\n",
        "    plt.subplot(2, 5, i + 1)\n",
        "    plt.imshow(X_train[i], cmap='gray')\n",
        "    plt.title(f\"{y_train[i]}\")\n",
        "    plt.axis('off')\n",
        "\n",
        "plt.tight_layout()\n",
        "plt.show()"
      ],
      "metadata": {
        "id": "9VePWoqngg9p",
        "colab": {
          "base_uri": "https://localhost:8080/",
          "height": 385
        },
        "outputId": "e475f5d5-193e-4bd8-f96c-fb8dae2f52dd"
      },
      "execution_count": 3,
      "outputs": [
        {
          "output_type": "display_data",
          "data": {
            "text/plain": [
              "<Figure size 800x400 with 10 Axes>"
            ],
            "image/png": "[encoded data removed]"
          },
          "metadata": {}
        }
      ]
    },
    {
      "cell_type": "code",
      "source": [
        "# Step 3: Render the image as characters.\n",
        "# This is useful so that we can get a better idea of the cell layout.\n",
        "def renderImage(image):\n",
        "  # Header row output\n",
        "  print(f'  ',end='')\n",
        "  for col in range(image.shape[1]):\n",
        "    print(f'{col % 10}',end='')\n",
        "  print(' ')\n",
        "\n",
        "  # Cell row by row output\n",
        "  for row in range(image.shape[0]):\n",
        "    # Row number\n",
        "    print(f'{row % 10} ',end='')\n",
        "\n",
        "    # Row\n",
        "    for col in range(image.shape[1]):\n",
        "      pixel = image[row,col]\n",
        "      if pixel != 0:\n",
        "        pixel = 1\n",
        "      print(f'{pixel}',end='')\n",
        "    print('')"
      ],
      "metadata": {
        "id": "DqKfpSdk7Qe2"
      },
      "execution_count": 4,
      "outputs": []
    },
    {
      "cell_type": "code",
      "source": [
        "# Sample a cell in character output\n",
        "TRAIN_NO = 1\n",
        "renderImage(X_train[TRAIN_NO])"
      ],
      "metadata": {
        "id": "o8PKfwv5ePD3",
        "colab": {
          "base_uri": "https://localhost:8080/"
        },
        "outputId": "f04bfacf-f649-4de0-99b4-531b5923baf9"
      },
      "execution_count": 63,
      "outputs": [
        {
          "output_type": "stream",
          "name": "stdout",
          "text": [
            "  0123456789012345678901234567 \n",
            "0 0000000000000000000000000000\n",
            "1 0000000000000000000000000000\n",
            "2 0000000000000000000000000000\n",
            "3 0000000000000000000000000000\n",
            "4 0000000000000001111100000000\n",
            "5 0000000000000011111100000000\n",
            "6 0000000000000111111111000000\n",
            "7 0000000000011111111111000000\n",
            "8 0000000000011111111111000000\n",
            "9 0000000000111111111111000000\n",
            "0 0000000001111111110011100000\n",
            "1 0000000011111100000011100000\n",
            "2 0000000111111100000011100000\n",
            "3 0000000111100000000011100000\n",
            "4 0000000111000000000011100000\n",
            "5 0000001111000000000011100000\n",
            "6 0000001111000000001111100000\n",
            "7 0000001110000000011111000000\n",
            "8 0000001110000000111100000000\n",
            "9 0000001110000001111000000000\n",
            "0 0000001111111111111000000000\n",
            "1 0000001111111111100000000000\n",
            "2 0000001111111110000000000000\n",
            "3 0000000111111100000000000000\n",
            "4 0000000000000000000000000000\n",
            "5 0000000000000000000000000000\n",
            "6 0000000000000000000000000000\n",
            "7 0000000000000000000000000000\n"
          ]
        }
      ]
    },
    {
      "cell_type": "code",
      "source": [
        "# Step 4: Study the code below written by ChatGPT to calculate the minimum canvas\n",
        "# size without pixel=0 padding around the non-zero pixels. Given an image,\n",
        "# calculate_min_canvas returns the minimum width and height of the canvas.\n",
        "# ChatGPT prompt: what is a function to calculate the minimum canvas for a given\n",
        "# MNIST image\n",
        "import numpy as np\n",
        "\n",
        "def calculate_min_canvas(image):\n",
        "    # Find non-zero pixel coordinates (indices) (RC: this is really clever)\n",
        "    non_zero_pixels = np.argwhere(image > 0)\n",
        "\n",
        "    # Find the min and max x and y coords of non-zero pixels.\n",
        "    # axis=0 takes the min, max over all the rows (see below).\n",
        "    min_x, min_y = np.min(non_zero_pixels, axis=0)\n",
        "    max_x, max_y = np.max(non_zero_pixels, axis=0)\n",
        "\n",
        "    # Calculate the width and height of the minimum bounding box\n",
        "    # width, height is 1-based.\n",
        "    width = max_x - min_x + 1\n",
        "    height = max_y - min_y + 1\n",
        "\n",
        "    return width, height"
      ],
      "metadata": {
        "id": "8QnGtg3thxWg"
      },
      "execution_count": 6,
      "outputs": []
    },
    {
      "cell_type": "code",
      "source": [
        "# The clever part of the above function is the argwhere function.\n",
        "# As we can see it returns the pixel coordinates where there is a non-zero.\n",
        "image = X_train[TRAIN_NO]\n",
        "non_zero_pixels = np.argwhere(image > 0)\n",
        "# print(non_zero_pixels[0:])\n",
        "# Need to get the min and max of each column\n",
        "max_x = np.max(non_zero_pixels[:, 0])\n",
        "min_x = np.min(non_zero_pixels[:, 0])\n",
        "max_y = np.max(non_zero_pixels[:, 1])\n",
        "min_y = np.min(non_zero_pixels[:, 1])\n",
        "\n",
        "print(\"max_x: \", max_x, \" min_x: \", min_x, \" max_y: \", max_y, \" min_y: \", min_y)"
      ],
      "metadata": {
        "id": "HZgqw07AhezZ",
        "colab": {
          "base_uri": "https://localhost:8080/"
        },
        "outputId": "062fa8a6-7a4d-4306-a202-ca93d1a9b12e"
      },
      "execution_count": 64,
      "outputs": [
        {
          "output_type": "stream",
          "name": "stdout",
          "text": [
            "max_x:  23  min_x:  4  max_y:  22  min_y:  6\n"
          ]
        }
      ]
    },
    {
      "cell_type": "code",
      "source": [
        "# Unit test the function -- it's important that we use TRAIN_NO=1\n",
        "# because the width and height, in this case, are not the same.\n",
        "# It should return (20,17), if correct. However, the ChatGPT bug is not\n",
        "# here; we find it later as we'll see.\n",
        "calculate_min_canvas(image)"
      ],
      "metadata": {
        "id": "bB9_fRzA7cbn",
        "colab": {
          "base_uri": "https://localhost:8080/"
        },
        "outputId": "95c0b554-b2d5-43a2-b048-3df6a10a15c7"
      },
      "execution_count": 8,
      "outputs": [
        {
          "output_type": "execute_result",
          "data": {
            "text/plain": [
              "(20, 17)"
            ]
          },
          "metadata": {},
          "execution_count": 8
        }
      ]
    },
    {
      "cell_type": "code",
      "source": [
        "# Step 5: TODO write a YOUR calculate_min_canvas function; it does the same\n",
        "# thing functionally as the above ChatGPT function except YOURS does NOT use numpy\n",
        "# methods.\n",
        "import math\n",
        "\n",
        "def calculate_min_canvas(image):\n",
        "    # Initialize min variables to the largest possible value of image\n",
        "    # image[0] used in case the image isn't a square (which it is)\n",
        "    min_x = len(image)\n",
        "    max_x = -1\n",
        "    min_y = len(image[0])\n",
        "    max_y = -1\n",
        "\n",
        "    # Loop through the x and y axes to find the min and max values\n",
        "    for x in range(len(image)):\n",
        "      for y in range(len(image[x])):\n",
        "        if image[x][y] > 0:\n",
        "          min_x = min(x, min_x)\n",
        "          max_x = max(x, max_x)\n",
        "          min_y = min(y, min_y)\n",
        "          max_y = max(y, max_y)\n",
        "\n",
        "    width = max_x - min_x + 1\n",
        "    height = max_y - min_y + 1\n",
        "\n",
        "    return width, height"
      ],
      "metadata": {
        "id": "xreldItN_rLV"
      },
      "execution_count": 20,
      "outputs": []
    },
    {
      "cell_type": "code",
      "source": [
        "# Unit test your function.\n",
        "# You should get same results as ChatGPT.\n",
        "calculate_min_canvas(image)"
      ],
      "metadata": {
        "id": "mYbttULm8WHT",
        "colab": {
          "base_uri": "https://localhost:8080/"
        },
        "outputId": "dcd5e2b4-e0c9-45b8-e1de-c70f6fd2d25a"
      },
      "execution_count": 10,
      "outputs": [
        {
          "output_type": "execute_result",
          "data": {
            "text/plain": [
              "(20, 17)"
            ]
          },
          "metadata": {},
          "execution_count": 10
        }
      ]
    },
    {
      "cell_type": "code",
      "source": [
        "# Step 6: Test the minimum canvas function by cropping the image.\n",
        "# ChatGPT prompt: write function to crop an image accordingly\n",
        "!pip install Pillow"
      ],
      "metadata": {
        "id": "d0PVj8YnmVTQ",
        "colab": {
          "base_uri": "https://localhost:8080/"
        },
        "outputId": "c4b6b924-49ec-42fc-b700-a94f14a3ad19"
      },
      "execution_count": null,
      "outputs": [
        {
          "output_type": "stream",
          "name": "stdout",
          "text": [
            "Requirement already satisfied: Pillow in /usr/local/lib/python3.10/dist-packages (9.4.0)\n"
          ]
        }
      ]
    },
    {
      "cell_type": "code",
      "source": [
        "# Step 6A: Actual code written by the above ChatGPT prompt...\n",
        "from PIL import Image\n",
        "\n",
        "def crop_image(image, canvas_width, canvas_height):\n",
        "    # Convert numpy array to PIL Image\n",
        "    image_pil = Image.fromarray(image)\n",
        "\n",
        "    # Calculate the coordinates to crop the image\n",
        "    # RC: integer division is always suspicious\n",
        "    # left = (image.shape[1] - canvas_width) // 2\n",
        "    # upper = (image.shape[0] - canvas_height) // 2\n",
        "\n",
        "    # right = left + canvas_width\n",
        "    # lower = upper + canvas_height\n",
        "\n",
        "    non_zero_pixels = np.argwhere(image > 0)\n",
        "    left = np.min(non_zero_pixels[:, 1])  # Finds left-most non-zero pixel\n",
        "    upper = np.min(non_zero_pixels[:, 0]) # Finds upper-most non-zero pixel\n",
        "\n",
        "    # right = np.max(non_zero_pixels[:, 0])\n",
        "    # lower = np.max(non_zero_pixels[:, 1])\n",
        "\n",
        "    right = np.max(non_zero_pixels[:, 0])\n",
        "    lower = upper + np.max(non_zero_pixels[:, 1])\n",
        "\n",
        "    print(\"left: \", left, \"upper: \", upper, \"right: \", right, \"lower: \", lower)\n",
        "\n",
        "    # Crop the image\n",
        "    cropped_image_pil = image_pil.crop((left, upper, right, lower))\n",
        "\n",
        "    # Convert the cropped PIL Image back to numpy array\n",
        "    cropped_image = np.array(cropped_image_pil)\n",
        "\n",
        "    return cropped_image"
      ],
      "metadata": {
        "id": "qxAstqwXncu3"
      },
      "execution_count": 52,
      "outputs": []
    },
    {
      "cell_type": "code",
      "source": [
        "# Step 7: Render the cropped image.\n",
        "# Code also written by ChatGPT.\n",
        "def renderImagePlot(image):\n",
        "  canvas_width, canvas_height = calculate_min_canvas(image)\n",
        "\n",
        "  cropped_image = crop_image(image, canvas_width, canvas_height)    # chatGPT\n",
        "\n",
        "  print(f'Original:')\n",
        "  renderImage(image)\n",
        "\n",
        "  print(f'Cropped:')\n",
        "  renderImage(cropped_image)\n",
        "\n",
        "  # Display the original and cropped images for comparison\n",
        "  plt.figure(figsize=(8, 4))\n",
        "  plt.subplot(1, 2, 1)\n",
        "  plt.imshow(image, cmap='gray')\n",
        "  plt.title(\"Original image\")\n",
        "  plt.axis('off')\n",
        "\n",
        "  plt.figure(figsize=(6, 3))\n",
        "  plt.subplot(1, 2, 2)\n",
        "  plt.imshow(cropped_image, cmap='gray')\n",
        "  plt.title(\"Cropped image\")\n",
        "  plt.axis('off')\n",
        "\n",
        "  #plt.tight_layout()\n",
        "  plt.show()"
      ],
      "metadata": {
        "id": "1dQpLglrn2Jr"
      },
      "execution_count": 12,
      "outputs": []
    },
    {
      "cell_type": "code",
      "source": [
        "# Step 8: TODO run this cell to demonstrate the bug.\n",
        "# DO NOT DELETE THE OUTPUT.\n",
        "image = X_train[TRAIN_NO]\n",
        "renderImagePlot(image)"
      ],
      "metadata": {
        "id": "N4HreczyCCWo",
        "colab": {
          "base_uri": "https://localhost:8080/",
          "height": 1000
        },
        "outputId": "4f5e5ec7-cb1b-4928-c7fc-e6d6b7abd01c"
      },
      "execution_count": null,
      "outputs": [
        {
          "output_type": "stream",
          "name": "stdout",
          "text": [
            "left:  4 upper:  5 right:  24 lower:  22\n",
            "Original:\n",
            "  0123456789012345678901234567 \n",
            "0 0000000000000000000000000000\n",
            "1 0000000000000000000000000000\n",
            "2 0000000000000000000000000000\n",
            "3 0000000000000000000000000000\n",
            "4 0000000000000001111100000000\n",
            "5 0000000000000011111100000000\n",
            "6 0000000000000111111111000000\n",
            "7 0000000000011111111111000000\n",
            "8 0000000000011111111111000000\n",
            "9 0000000000111111111111000000\n",
            "0 0000000001111111110011100000\n",
            "1 0000000011111100000011100000\n",
            "2 0000000111111100000011100000\n",
            "3 0000000111100000000011100000\n",
            "4 0000000111000000000011100000\n",
            "5 0000001111000000000011100000\n",
            "6 0000001111000000001111100000\n",
            "7 0000001110000000011111000000\n",
            "8 0000001110000000111100000000\n",
            "9 0000001110000001111000000000\n",
            "0 0000001111111111111000000000\n",
            "1 0000001111111111100000000000\n",
            "2 0000001111111110000000000000\n",
            "3 0000000111111100000000000000\n",
            "4 0000000000000000000000000000\n",
            "5 0000000000000000000000000000\n",
            "6 0000000000000000000000000000\n",
            "7 0000000000000000000000000000\n",
            "Cropped:\n",
            "  01234567890123456789 \n",
            "0 00000000001111110000\n",
            "1 00000000011111111100\n",
            "2 00000001111111111100\n",
            "3 00000001111111111100\n",
            "4 00000011111111111100\n",
            "5 00000111111111001110\n",
            "6 00001111110000001110\n",
            "7 00011111110000001110\n",
            "8 00011110000000001110\n",
            "9 00011100000000001110\n",
            "0 00111100000000001110\n",
            "1 00111100000000111110\n",
            "2 00111000000001111100\n",
            "3 00111000000011110000\n",
            "4 00111000000111100000\n",
            "5 00111111111111100000\n",
            "6 00111111111110000000\n"
          ]
        },
        {
          "output_type": "display_data",
          "data": {
            "text/plain": [
              "<Figure size 800x400 with 1 Axes>"
            ],
            "image/png": "[encoded data removed]"
          },
          "metadata": {}
        },
        {
          "output_type": "display_data",
          "data": {
            "text/plain": [
              "<Figure size 600x300 with 1 Axes>"
            ],
            "image/png": "[encoded data removed]"
          },
          "metadata": {}
        }
      ]
    },
    {
      "cell_type": "markdown",
      "source": [
        "Task 8: If you look at the two images above and the two below, something is definitely wrong.\n",
        "The cropped images are incorrect. What is the problem? Fix the (Colab) cells\n",
        "above to resolve the problem."
      ],
      "metadata": {
        "id": "zqy9at-39dpC"
      }
    },
    {
      "cell_type": "code",
      "source": [
        "# Step 9A: TODO fix the bug and run this cell to show that the bug has been fixed.\n",
        "# DO NOT DELETE THE OUTPUT.\n",
        "TRAIN_NO = 2\n",
        "image = X_train[TRAIN_NO]\n",
        "renderImagePlot(image)"
      ],
      "metadata": {
        "id": "oBO-1XRtBqgb",
        "colab": {
          "base_uri": "https://localhost:8080/",
          "height": 1000
        },
        "outputId": "284d79a9-eeca-4443-f7da-8cb454b7876f"
      },
      "execution_count": 53,
      "outputs": [
        {
          "output_type": "stream",
          "name": "stdout",
          "text": [
            "left:  3 upper:  5 right:  24 lower:  27\n",
            "Original:\n",
            "  0123456789012345678901234567 \n",
            "0 0000000000000000000000000000\n",
            "1 0000000000000000000000000000\n",
            "2 0000000000000000000000000000\n",
            "3 0000000000000000000000000000\n",
            "4 0000000000000000000000000000\n",
            "5 0000000000000000000011100000\n",
            "6 0000110000000000000011100000\n",
            "7 0000110000000000000111100000\n",
            "8 0000110000000000000111000000\n",
            "9 0000110000000000000111000000\n",
            "0 0001110000000000000111000000\n",
            "1 0001110000000000001111000000\n",
            "2 0001110000000000001111000000\n",
            "3 0001110000000001111110000000\n",
            "4 0001110001111111111110000000\n",
            "5 0001111111111111111100000000\n",
            "6 0000111111110000011100000000\n",
            "7 0000000000000000011100000000\n",
            "8 0000000000000000011100000000\n",
            "9 0000000000000000011100000000\n",
            "0 0000000000000000011100000000\n",
            "1 0000000000000000011100000000\n",
            "2 0000000000000000011100000000\n",
            "3 0000000000000000011100000000\n",
            "4 0000000000000000011100000000\n",
            "5 0000000000000000000000000000\n",
            "6 0000000000000000000000000000\n",
            "7 0000000000000000000000000000\n",
            "Cropped:\n",
            "  012345678901234567890 \n",
            "0 000000000000000001110\n",
            "1 011000000000000001110\n",
            "2 011000000000000011110\n",
            "3 011000000000000011100\n",
            "4 011000000000000011100\n",
            "5 111000000000000011100\n",
            "6 111000000000000111100\n",
            "7 111000000000000111100\n",
            "8 111000000000111111000\n",
            "9 111000111111111111000\n",
            "0 111111111111111110000\n",
            "1 011111111000001110000\n",
            "2 000000000000001110000\n",
            "3 000000000000001110000\n",
            "4 000000000000001110000\n",
            "5 000000000000001110000\n",
            "6 000000000000001110000\n",
            "7 000000000000001110000\n",
            "8 000000000000001110000\n",
            "9 000000000000001110000\n",
            "0 000000000000000000000\n",
            "1 000000000000000000000\n"
          ]
        },
        {
          "output_type": "display_data",
          "data": {
            "text/plain": [
              "<Figure size 800x400 with 1 Axes>"
            ],
            "image/png": "[encoded data removed]"
          },
          "metadata": {}
        },
        {
          "output_type": "display_data",
          "data": {
            "text/plain": [
              "<Figure size 600x300 with 1 Axes>"
            ],
            "image/png": "[encoded data removed]"
          },
          "metadata": {}
        }
      ]
    },
    {
      "cell_type": "code",
      "source": [
        "# Step 9B: Experiment with another image to verify the bugs has been fixed.\n",
        "# DO NOT DELETE THE OUTPUT.\n",
        "TRAIN_NO = 3\n",
        "image = X_train[TRAIN_NO]\n",
        "renderImagePlot(image)"
      ],
      "metadata": {
        "id": "Ibc4PdCM-KOy",
        "colab": {
          "base_uri": "https://localhost:8080/",
          "height": 1000
        },
        "outputId": "0750f23d-e73e-444e-ed90-8e0e50eef7eb"
      },
      "execution_count": 59,
      "outputs": [
        {
          "output_type": "stream",
          "name": "stdout",
          "text": [
            "left:  8 upper:  5 right:  24 lower:  26\n",
            "Original:\n",
            "  0123456789012345678901234567 \n",
            "0 0000000000000000000000000000\n",
            "1 0000000000000000000000000000\n",
            "2 0000000000000000000000000000\n",
            "3 0000000000000000000000000000\n",
            "4 0000000000000000000000000000\n",
            "5 0000000000000000001111000000\n",
            "6 0000000000000000011111000000\n",
            "7 0000000000000000011111000000\n",
            "8 0000000000000000111111000000\n",
            "9 0000000000000001111100000000\n",
            "0 0000000000000001111000000000\n",
            "1 0000000000000011111000000000\n",
            "2 0000000000000111110000000000\n",
            "3 0000000000000111110000000000\n",
            "4 0000000000001111100000000000\n",
            "5 0000000000011111000000000000\n",
            "6 0000000000011111000000000000\n",
            "7 0000000000111110000000000000\n",
            "8 0000000000111110000000000000\n",
            "9 0000000000111100000000000000\n",
            "0 0000000001111100000000000000\n",
            "1 0000000011111100000000000000\n",
            "2 0000000011110000000000000000\n",
            "3 0000000011110000000000000000\n",
            "4 0000000011110000000000000000\n",
            "5 0000000000000000000000000000\n",
            "6 0000000000000000000000000000\n",
            "7 0000000000000000000000000000\n",
            "Cropped:\n",
            "  0123456789012345 \n",
            "0 0000000000111100\n",
            "1 0000000001111100\n",
            "2 0000000001111100\n",
            "3 0000000011111100\n",
            "4 0000000111110000\n",
            "5 0000000111100000\n",
            "6 0000001111100000\n",
            "7 0000011111000000\n",
            "8 0000011111000000\n",
            "9 0000111110000000\n",
            "0 0001111100000000\n",
            "1 0001111100000000\n",
            "2 0011111000000000\n",
            "3 0011111000000000\n",
            "4 0011110000000000\n",
            "5 0111110000000000\n",
            "6 1111110000000000\n",
            "7 1111000000000000\n",
            "8 1111000000000000\n",
            "9 1111000000000000\n",
            "0 0000000000000000\n"
          ]
        },
        {
          "output_type": "display_data",
          "data": {
            "text/plain": [
              "<Figure size 800x400 with 1 Axes>"
            ],
            "image/png": "[encoded data removed]"
          },
          "metadata": {}
        },
        {
          "output_type": "display_data",
          "data": {
            "text/plain": [
              "<Figure size 600x300 with 1 Axes>"
            ],
            "image/png": "[encoded data removed]"
          },
          "metadata": {}
        }
      ]
    },
    {
      "cell_type": "code",
      "source": [
        "TRAIN_NO = 4\n",
        "image = X_train[TRAIN_NO]\n",
        "renderImagePlot(image)"
      ],
      "metadata": {
        "colab": {
          "base_uri": "https://localhost:8080/",
          "height": 1000
        },
        "id": "cjkTzVfLU6sI",
        "outputId": "9a50f1c7-ea85-4ab3-9865-27a6dfccd2d3"
      },
      "execution_count": 62,
      "outputs": [
        {
          "output_type": "stream",
          "name": "stdout",
          "text": [
            "left:  6 upper:  7 right:  26 lower:  27\n",
            "Original:\n",
            "  0123456789012345678901234567 \n",
            "0 0000000000000000000000000000\n",
            "1 0000000000000000000000000000\n",
            "2 0000000000000000000000000000\n",
            "3 0000000000000000000000000000\n",
            "4 0000000000000000000000000000\n",
            "5 0000000000000000000000000000\n",
            "6 0000000000000000000000000000\n",
            "7 0000000000001111111110000000\n",
            "8 0000000000011111111110000000\n",
            "9 0000000001111111111110000000\n",
            "0 0000000001111100111110000000\n",
            "1 0000000011111000111100000000\n",
            "2 0000000111110011111000000000\n",
            "3 0000001111000111111000000000\n",
            "4 0000001111111111110000000000\n",
            "5 0000001111111111100000000000\n",
            "6 0000000111111111100000000000\n",
            "7 0000000000000111100000000000\n",
            "8 0000000000000111100000000000\n",
            "9 0000000000000011100000000000\n",
            "0 0000000000000111100000000000\n",
            "1 0000000000000111100000000000\n",
            "2 0000000000000111100000000000\n",
            "3 0000000000000011100000000000\n",
            "4 0000000000000011110000000000\n",
            "5 0000000000000011111000000000\n",
            "6 0000000000000001111000000000\n",
            "7 0000000000000000000000000000\n",
            "Cropped:\n",
            "  01234567890123456789 \n",
            "0 00000011111111100000\n",
            "1 00000111111111100000\n",
            "2 00011111111111100000\n",
            "3 00011111001111100000\n",
            "4 00111110001111000000\n",
            "5 01111100111110000000\n",
            "6 11110001111110000000\n",
            "7 11111111111100000000\n",
            "8 11111111111000000000\n",
            "9 01111111111000000000\n",
            "0 00000001111000000000\n",
            "1 00000001111000000000\n",
            "2 00000000111000000000\n",
            "3 00000001111000000000\n",
            "4 00000001111000000000\n",
            "5 00000001111000000000\n",
            "6 00000000111000000000\n",
            "7 00000000111100000000\n",
            "8 00000000111110000000\n",
            "9 00000000011110000000\n"
          ]
        },
        {
          "output_type": "display_data",
          "data": {
            "text/plain": [
              "<Figure size 800x400 with 1 Axes>"
            ],
            "image/png": "[encoded data removed]"
          },
          "metadata": {}
        },
        {
          "output_type": "display_data",
          "data": {
            "text/plain": [
              "<Figure size 600x300 with 1 Axes>"
            ],
            "image/png": "[encoded data removed]"
          },
          "metadata": {}
        }
      ]
    },
    {
      "cell_type": "markdown",
      "source": [
        "### Bug explanation and resolution\n",
        "Give a **brief** answers below.\n",
        "Full credit will only be given for a concise, well-articulated responses.\n",
        "\n",
        "Regarding the ChatGPT bug, it...\n",
        "\n",
        "1. Manifests: (what is the effect in the images?) - The top and bottom of the number in the image is cut off for TRAIN_NO = 1 (example with the 0). In other images, the left and right sides get cut off, or sometimes both.\n",
        "2. Is in: (which step in this Colab?) - It is in step 6A of this Colab.\n",
        "3. Is caused by this: (which method ChatGPT wrote for this Colab?) - It is in the crop_image method that ChatGPT wrote.\n",
        "4. Is caused by this: (which statement? Copy and paste the statement here but _only_ if it is just one statement. If it more than one statement, indicate approximately where the problem occurs.) - The problem occurs when calculating the left, right, upper, and lower bounds to crop the image.\n",
        "5. Occurs because: (why is there this problem?) - This is a problem because it is just using the width of the image, image.shape[1], and the width of the handwritten digit, canvas_width, without taking into account where the first non-zero pixel is in the digit (vice versa for height). The right and bottom bounds are also affected by this problem.\n",
        "6. Can be repaired if... (how to fix the problem?) - This problem is fixed by using the NumPy method .argwhere(image > 0) to find all the occurences of non-zero pixels. With that returned list of non zero pixels, we then find the min of each column, referring to the left-most and upper-most non-zero pixels. The left-most and upper-most non-zero pixels will be the left and upper bounds. Similarly, the max of each column refers to the right-most and bottom-most pixels. After trial and error of testing different possibilities, it seems that the right bound can just be the right-most non-zero pixel, while the lower bound is the upper bound + the lower-most non-zero pixel. This achieves getting the smallest cropped image without cutting the digit off in any direction.  "
      ],
      "metadata": {
        "id": "xNGUkqGv6rWo"
      }
    },
    {
      "cell_type": "markdown",
      "source": [
        "## Deliverables\n",
        "\n",
        "1. Answer the questions in the text cell above. There is no need to create a new text cell, instead, add your answers.\n",
        "2. Share the copied notebook as viewable only. *Do not remove the outputs.* Copy the link and paste it into the assignment shell.\n",
        "3. Complete the [submission flight checklist](https://docs.google.com/spreadsheets/u/0/d/1lgCttHGUIbCUTrd0TZIm4Nxfy8wy3jnIvNv7cUPJ-Gw/edit).\n",
        "When done, export the checklist as lab04-checklist.pdf, and upload it to the assignment shell."
      ],
      "metadata": {
        "id": "BSxzY6tv-kL3"
      }
    }
  ]
}